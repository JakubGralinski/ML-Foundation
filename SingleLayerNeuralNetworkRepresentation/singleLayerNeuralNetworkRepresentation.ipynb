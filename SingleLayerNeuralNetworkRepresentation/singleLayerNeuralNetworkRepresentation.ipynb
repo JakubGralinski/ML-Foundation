{
 "cells": [
  {
   "metadata": {
    "ExecuteTime": {
     "end_time": "2025-04-08T10:32:57.761979Z",
     "start_time": "2025-04-08T10:32:40.972487Z"
    }
   },
   "cell_type": "code",
   "source": [
    "import pandas as pd\n",
    "import numpy as np\n",
    "import matplotlib.pyplot as plt\n",
    "from sklearn.linear_model import Perceptron as SklearnPerceptron\n",
    "from sklearn.metrics import accuracy_score, precision_score, recall_score, f1_score\n",
    "from sklearn.model_selection import train_test_split\n",
    "from sklearn.preprocessing import LabelEncoder\n",
    "import io\n",
    "\n",
    "%matplotlib inline"
   ],
   "id": "6bb03f4623d32952",
   "outputs": [],
   "execution_count": 1
  },
  {
   "metadata": {
    "ExecuteTime": {
     "end_time": "2025-04-08T10:32:57.766074Z",
     "start_time": "2025-04-08T10:32:57.763141Z"
    }
   },
   "cell_type": "code",
   "source": [
    "def letter_frequency_vector(text):\n",
    "    \"\"\"\n",
    "    Convert input text into a 26-dimensional vector representing letter frequencies.\n",
    "    All non-letter characters are removed and the frequencies are normalized.\n",
    "    \"\"\"\n",
    "    text = ''.join(filter(str.isalpha, text.lower()))\n",
    "    freq = np.zeros(26)\n",
    "    if len(text) == 0:\n",
    "        return freq\n",
    "    for char in text:\n",
    "        idx = ord(char) - ord('a')\n",
    "        if 0 <= idx < 26:\n",
    "            freq[idx] += 1\n",
    "    return freq / len(text)\n"
   ],
   "id": "8a0584613bd13447",
   "outputs": [],
   "execution_count": 2
  },
  {
   "metadata": {
    "ExecuteTime": {
     "end_time": "2025-04-08T10:32:57.791263Z",
     "start_time": "2025-04-08T10:32:57.766978Z"
    }
   },
   "cell_type": "code",
   "source": [
    "# Load dataset from sentences.csv (assumes header: text,label)\n",
    "df = pd.read_csv(\n",
    "    \"/Users/jakubgralinski/Desktop/studies/PJATK_25_Summer_Semester/NAI/SingleLayerNeuralNetwork/NAI-03/src/main/resources/sentences.csv\")\n",
    "print(\"Dataset head:\")\n",
    "print(df.head())"
   ],
   "id": "fb64c89ed78f6c36",
   "outputs": [
    {
     "name": "stdout",
     "output_type": "stream",
     "text": [
      "Dataset head:\n",
      "                                                text    label\n",
      "0     I enjoy reading books and learning new things.  English\n",
      "1   The weather is beautiful today and I feel happy.  English\n",
      "2  Technology drives progress and innovation in o...  English\n",
      "3     Programming is both challenging and rewarding.  English\n",
      "4      Music and art inspire creativity and passion.  English\n"
     ]
    }
   ],
   "execution_count": 3
  },
  {
   "metadata": {
    "ExecuteTime": {
     "end_time": "2025-04-08T10:32:57.811788Z",
     "start_time": "2025-04-08T10:32:57.792084Z"
    }
   },
   "cell_type": "code",
   "source": [
    "# Compute letter-frequency features\n",
    "df['features'] = df['text'].apply(letter_frequency_vector)\n",
    "X = np.vstack(df['features'].values)\n",
    "y = df['label'].values\n",
    "\n",
    "# Encode labels as integers\n",
    "le = LabelEncoder()\n",
    "y_encoded = le.fit_transform(y)\n",
    "# Split the data: 70% training, 30% test\n",
    "X_train, X_test, y_train, y_test, texts_train, texts_test = train_test_split(\n",
    "    X, y_encoded, df['text'], test_size=0.3, random_state=42\n",
    ")\n",
    "# Train a scikit-learn Perceptron classifier\n",
    "sklearn_clf = SklearnPerceptron(max_iter=1000, tol=1e-3, random_state=42)\n",
    "sklearn_clf.fit(X_train, y_train)\n",
    "y_pred_sklearn = sklearn_clf.predict(X_test)\n",
    "# Evaluate scikit-learn classifier\n",
    "acc_sklearn = accuracy_score(y_test, y_pred_sklearn)\n",
    "prec_sklearn = precision_score(y_test, y_pred_sklearn, average='macro')\n",
    "rec_sklearn = recall_score(y_test, y_pred_sklearn, average='macro')\n",
    "f1_sklearn = f1_score(y_test, y_pred_sklearn, average='macro')\n",
    "\n",
    "print(\"Sklearn Accuracy:\", acc_sklearn)\n",
    "print(\"Sklearn Precision:\", prec_sklearn)\n",
    "print(\"Sklearn Recall:\", rec_sklearn)\n",
    "print(\"Sklearn F1:\", f1_sklearn)"
   ],
   "id": "8048041973c3b97d",
   "outputs": [
    {
     "name": "stdout",
     "output_type": "stream",
     "text": [
      "Sklearn Accuracy: 0.9907407407407407\n",
      "Sklearn Precision: 0.7435897435897436\n",
      "Sklearn Recall: 0.75\n",
      "Sklearn F1: 0.7467532467532467\n"
     ]
    },
    {
     "name": "stderr",
     "output_type": "stream",
     "text": [
      "/Users/jakubgralinski/Desktop/studies/PJATK_25_Summer_Semester/NAI/NAI_perceptron_implementation/NAI_perceptron_mapping/.venv/lib/python3.11/site-packages/sklearn/metrics/_classification.py:1565: UndefinedMetricWarning: Precision is ill-defined and being set to 0.0 in labels with no predicted samples. Use `zero_division` parameter to control this behavior.\n",
      "  _warn_prf(average, modifier, f\"{metric.capitalize()} is\", len(result))\n"
     ]
    }
   ],
   "execution_count": 4
  },
  {
   "metadata": {
    "ExecuteTime": {
     "end_time": "2025-04-08T10:32:57.824906Z",
     "start_time": "2025-04-08T10:32:57.814058Z"
    }
   },
   "cell_type": "code",
   "source": [
    "# Read the Java results from the CSV file.\n",
    "with open(\n",
    "        \"/Users/jakubgralinski/Desktop/studies/PJATK_25_Summer_Semester/NAI/SingleLayerNeuralNetwork/NAI-03/results.csv\",\n",
    "        \"r\") as f:\n",
    "    lines = f.read().splitlines()\n",
    "\n",
    "# Find the index where metrics start (assuming the metrics section starts with \"Overall Accuracy\")\n",
    "metrics_start = None\n",
    "for i, line in enumerate(lines):\n",
    "    if line.startswith(\"Overall Accuracy\"):\n",
    "        metrics_start = i\n",
    "        break\n",
    "\n",
    "if metrics_start is None:\n",
    "    raise ValueError(\"Metrics section not found in CSV.\")\n",
    "\n",
    "# Extract the metrics lines and load them into a DataFrame.\n",
    "metrics_lines = lines[metrics_start:]\n",
    "metrics_data = \"\\n\".join(metrics_lines)\n",
    "# Assign headers\n",
    "java_results = pd.read_csv(io.StringIO(metrics_data), header=None, names=[\"metric\", \"Overall\", \"extra\"])\n",
    "java_results = java_results.drop(columns=\"extra\")\n",
    "java_results.set_index(\"metric\", inplace=True)\n",
    "\n",
    "print(\"Raw Java Results:\")\n",
    "print(java_results)"
   ],
   "id": "f286705b1e0d9556",
   "outputs": [
    {
     "name": "stdout",
     "output_type": "stream",
     "text": [
      "Raw Java Results:\n",
      "                   Overall\n",
      "metric                    \n",
      "Overall Accuracy       1.0\n",
      "Precision_French       1.0\n",
      "Recall_French          1.0\n",
      "FMeasure_French        1.0\n",
      "Precision_label        0.0\n",
      "Recall_label           0.0\n",
      "FMeasure_label         0.0\n",
      "Precision_Spanish      1.0\n",
      "Recall_Spanish         1.0\n",
      "FMeasure_Spanish       1.0\n",
      "Precision_English      1.0\n",
      "Recall_English         1.0\n",
      "FMeasure_English       1.0\n"
     ]
    }
   ],
   "execution_count": 5
  },
  {
   "metadata": {
    "ExecuteTime": {
     "end_time": "2025-04-08T10:32:57.831132Z",
     "start_time": "2025-04-08T10:32:57.825644Z"
    }
   },
   "cell_type": "code",
   "source": [
    "# Aggregate Java metrics to match scikit-learn macro averages\n",
    "java_accuracy = float(java_results.loc[\"Overall Accuracy\", \"Overall\"])\n",
    "\n",
    "# For Precision, Recall, and F1, we average over classes.\n",
    "classes = [\"French\", \"Spanish\", \"English\"]\n",
    "\n",
    "java_precision = np.mean([float(java_results.loc[f\"Precision_{cls}\", \"Overall\"]) for cls in classes])\n",
    "java_recall = np.mean([float(java_results.loc[f\"Recall_{cls}\", \"Overall\"]) for cls in classes])\n",
    "java_f1 = np.mean([float(java_results.loc[f\"FMeasure_{cls}\", \"Overall\"]) for cls in classes])\n",
    "\n",
    "java_aggregated = pd.DataFrame({\n",
    "    'metric': ['Accuracy', 'Precision', 'Recall', 'F1'],\n",
    "    'Overall': [java_accuracy, java_precision, java_recall, java_f1]\n",
    "}).set_index('metric')\n",
    "\n",
    "print(\"Aggregated Java Results:\")\n",
    "print(java_aggregated)"
   ],
   "id": "2be9bca1f632aa71",
   "outputs": [
    {
     "name": "stdout",
     "output_type": "stream",
     "text": [
      "Aggregated Java Results:\n",
      "           Overall\n",
      "metric            \n",
      "Accuracy       1.0\n",
      "Precision      1.0\n",
      "Recall         1.0\n",
      "F1             1.0\n"
     ]
    }
   ],
   "execution_count": 6
  },
  {
   "metadata": {
    "ExecuteTime": {
     "end_time": "2025-04-08T10:32:57.835310Z",
     "start_time": "2025-04-08T10:32:57.831998Z"
    }
   },
   "cell_type": "code",
   "source": [
    "# Create a DataFrame for scikit-learn results\n",
    "sklearn_results = pd.DataFrame({\n",
    "    'metric': ['Accuracy', 'Precision', 'Recall', 'F1'],\n",
    "    'Overall': [acc_sklearn, prec_sklearn, rec_sklearn, f1_sklearn]\n",
    "}).set_index('metric')\n",
    "\n",
    "print(\"Sklearn Results:\")\n",
    "print(sklearn_results)"
   ],
   "id": "f912103c8f50ffa4",
   "outputs": [
    {
     "name": "stdout",
     "output_type": "stream",
     "text": [
      "Sklearn Results:\n",
      "            Overall\n",
      "metric             \n",
      "Accuracy   0.990741\n",
      "Precision  0.743590\n",
      "Recall     0.750000\n",
      "F1         0.746753\n"
     ]
    }
   ],
   "execution_count": 7
  },
  {
   "metadata": {
    "ExecuteTime": {
     "end_time": "2025-04-08T10:32:58.018033Z",
     "start_time": "2025-04-08T10:32:57.836389Z"
    }
   },
   "cell_type": "code",
   "source": [
    "# Plot a comparison of the metrics between the Java implementation and scikit-learn\n",
    "metrics = ['Accuracy', 'Precision', 'Recall', 'F1']\n",
    "x = np.arange(len(metrics))\n",
    "width = 0.35\n",
    "\n",
    "fig, ax = plt.subplots(figsize=(8, 6))\n",
    "ax.bar(x - width / 2, java_aggregated.loc[metrics, 'Overall'], width, label='Java Implementation')\n",
    "ax.bar(x + width / 2, sklearn_results.loc[metrics, 'Overall'], width, label='Sklearn Implementation')\n",
    "\n",
    "ax.set_xticks(x)\n",
    "ax.set_xticklabels(metrics)\n",
    "ax.set_ylabel('Metric Value')\n",
    "ax.set_title('Comparison of Evaluation Metrics')\n",
    "ax.legend()\n",
    "ax.set_ylim(0, 1)\n",
    "plt.show()"
   ],
   "id": "e5c9d760abb7fc4d",
   "outputs": [
    {
     "data": {
      "text/plain": [
       "<Figure size 800x600 with 1 Axes>"
      ],
      "image/png": "[encoded data removed]"
     },
     "metadata": {},
     "output_type": "display_data"
    }
   ],
   "execution_count": 8
  },
  {
   "metadata": {
    "ExecuteTime": {
     "end_time": "2025-04-08T10:32:58.020484Z",
     "start_time": "2025-04-08T10:32:58.018961Z"
    }
   },
   "cell_type": "code",
   "source": "",
   "id": "5d28cc4b0f1ff794",
   "outputs": [],
   "execution_count": 8
  }
 ],
 "metadata": {
  "kernelspec": {
   "display_name": "Python 3",
   "language": "python",
   "name": "python3"
  },
  "language_info": {
   "codemirror_mode": {
    "name": "ipython",
    "version": 2
   },
   "file_extension": ".py",
   "mimetype": "text/x-python",
   "name": "python",
   "nbconvert_exporter": "python",
   "pygments_lexer": "ipython2",
   "version": "2.7.6"
  }
 },
 "nbformat": 4,
 "nbformat_minor": 5
}
